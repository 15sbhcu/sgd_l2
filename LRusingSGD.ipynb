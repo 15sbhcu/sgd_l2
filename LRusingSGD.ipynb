{
 "cells": [
  {
   "cell_type": "code",
   "execution_count": 1,
   "metadata": {},
   "outputs": [],
   "source": [
    "import numpy as np\n",
    "import pandas as pd\n",
    "from sklearn.datasets import make_classification"
   ]
  },
  {
   "cell_type": "code",
   "execution_count": 2,
   "metadata": {},
   "outputs": [],
   "source": [
    "#Creating data points\n",
    "X, y = make_classification(n_samples = 50000, n_features = 15, n_informative = 10, n_redundant = 5, n_classes = 2, weights = [0.7], class_sep = 0.7, random_state = 15)"
   ]
  },
  {
   "cell_type": "code",
   "execution_count": 3,
   "metadata": {},
   "outputs": [
    {
     "name": "stdout",
     "output_type": "stream",
     "text": [
      "(50000, 15) (50000,)\n"
     ]
    }
   ],
   "source": [
    "print(X.shape, y.shape)"
   ]
  },
  {
   "cell_type": "code",
   "execution_count": 4,
   "metadata": {},
   "outputs": [],
   "source": [
    "from sklearn.model_selection import train_test_split"
   ]
  },
  {
   "cell_type": "code",
   "execution_count": 5,
   "metadata": {},
   "outputs": [],
   "source": [
    "#Splitting dataset into train and test sets\n",
    "X_train, X_test, y_train, y_test = train_test_split(X, y, test_size = 0.25, random_state = 15)"
   ]
  },
  {
   "cell_type": "code",
   "execution_count": 6,
   "metadata": {},
   "outputs": [
    {
     "name": "stdout",
     "output_type": "stream",
     "text": [
      "(37500, 15) (37500,) (12500, 15) (12500,)\n"
     ]
    }
   ],
   "source": [
    "print(X_train.shape, y_train.shape, X_test.shape, y_test.shape)"
   ]
  },
  {
   "cell_type": "code",
   "execution_count": 7,
   "metadata": {},
   "outputs": [],
   "source": [
    "w = np.zeros_like(X_train[0]) #Initializing weight vector\n",
    "b = 0  #Initializing intercept"
   ]
  },
  {
   "cell_type": "code",
   "execution_count": 8,
   "metadata": {},
   "outputs": [],
   "source": [
    "N = len(X_train)\n",
    "learning_rate = 0.0001  #learning rate\n",
    "reg_constant = 0.0001   #regularization constant\n",
    "tol = 1e-3              #The stopping criterion"
   ]
  },
  {
   "cell_type": "code",
   "execution_count": 9,
   "metadata": {},
   "outputs": [],
   "source": [
    "def log_loss(X_data, y_data, weight, intercept):\n",
    "    '''\n",
    "    This function computes the log loss\n",
    "    '''\n",
    "    log_loss = 0\n",
    "    for i in range(0, len(X_data)):\n",
    "        log_loss += (y_data[i] * np.log10(sigmoid(weight, X_data[i], intercept)) + (1 - y_data[i]) * np.log10(1 - sigmoid(weight, X_data[i], intercept)))\n",
    "    return -(log_loss) / len(X_data)"
   ]
  },
  {
   "cell_type": "code",
   "execution_count": 10,
   "metadata": {},
   "outputs": [],
   "source": [
    "def sigmoid(weight, data_point, intercept):\n",
    "    '''\n",
    "    This function computes the sigmoid(x)\n",
    "    '''\n",
    "    return 1 / (1 + np.exp(-(np.dot(weight, data_point) + intercept)))"
   ]
  },
  {
   "cell_type": "code",
   "execution_count": 11,
   "metadata": {},
   "outputs": [],
   "source": [
    "import random\n",
    "def update_using_gradient_descent(X_train, y_train, old_weight, old_intercept):\n",
    "    '''\n",
    "    This function updates weight and intercept using gradient descent, and computes train and test losses\n",
    "    '''\n",
    "    train_loss = []\n",
    "    test_loss = []\n",
    "    epoch_count = 0\n",
    "    \n",
    "    #curr_loss = log_loss(X_train, y_train, old_weight, old_intercept)  #Computing log loss for the train data point\n",
    "    #train_loss.append(curr_loss)\n",
    "    #test_loss.append(log_loss(X_test, y_test, old_weight, old_intercept)) #Computing log loss for the test data point \n",
    "    weight = old_weight\n",
    "    intercept = old_intercept\n",
    "    curr_loss = 0\n",
    "    for j in range(0, 2):\n",
    "        prev_loss = curr_loss\n",
    "        for i in range(len(X_train)):\n",
    "            #Updating weight\n",
    "            updated_weight = (1 - (learning_rate * reg_constant) / N) * weight + reg_constant * X_train[i] * (y_train[i] - sigmoid(weight, X_train[i], intercept))\n",
    "            #Updating intercept\n",
    "            updated_intercept = intercept + reg_constant * (y_train[i] - sigmoid(weight, X_train[i], intercept))\n",
    "            #Computing log loss for the train data point\n",
    "            weight = updated_weight\n",
    "            intercept = updated_intercept \n",
    "        curr_loss = log_loss(X_train, y_train, weight, intercept)\n",
    "        train_loss.append(curr_loss)\n",
    "        #Computing log loss for the test data point\n",
    "        test_loss.append(log_loss(X_test, y_test, weight, intercept))\n",
    "        epoch_count += 1\n",
    "    \n",
    "    while(prev_loss - curr_loss > tol):\n",
    "        prev_loss = curr_loss\n",
    "        for i in range(len(X_train)):\n",
    "            #Updating weight\n",
    "            updated_weight = (1 - (learning_rate * reg_constant) / N) * weight + reg_constant * X_train[i] * (y_train[i] - sigmoid(weight, X_train[i], intercept))\n",
    "            #Updating intercept\n",
    "            updated_intercept = intercept + reg_constant * (y_train[i] - sigmoid(weight, X_train[i], intercept))\n",
    "            #Computing log loss for the train data point\n",
    "            weight = updated_weight\n",
    "            intercept = updated_intercept \n",
    "        curr_loss = log_loss(X_train, y_train, weight, intercept)\n",
    "        train_loss.append(curr_loss)\n",
    "        #Computing log loss for the test data point\n",
    "        test_loss.append(log_loss(X_test, y_test, weight, intercept))\n",
    "        epoch_count += 1\n",
    "        \n",
    "    return train_loss, test_loss, weight, intercept, epoch_count"
   ]
  },
  {
   "cell_type": "code",
   "execution_count": 12,
   "metadata": {},
   "outputs": [],
   "source": [
    "train_loss, test_loss, new_weight, new_intercept, epoch = update_using_gradient_descent(X_train, y_train, w, b)"
   ]
  },
  {
   "cell_type": "code",
   "execution_count": 13,
   "metadata": {},
   "outputs": [
    {
     "name": "stdout",
     "output_type": "stream",
     "text": [
      "[0.17545748442854878, 0.1686715705033325, 0.1663916799246301, 0.1653682753740316, 0.1648570745954716]\n",
      "[0.17595474423213966, 0.16939931358951177, 0.16720591194885903, 0.16621717799334929, 0.1657195946397841]\n",
      "[-0.40001239  0.18328928 -0.13402217  0.33580319 -0.17889152  0.54558313\n",
      " -0.4466899  -0.09723511  0.20465463  0.15485885  0.18269707  0.01098364\n",
      " -0.06612384  0.33709558  0.02007051]\n",
      "-0.718422609298153\n",
      "5\n"
     ]
    }
   ],
   "source": [
    "print(train_loss)\n",
    "print(test_loss)\n",
    "print(new_weight)\n",
    "print(new_intercept)\n",
    "print(epoch)"
   ]
  },
  {
   "cell_type": "code",
   "execution_count": 15,
   "metadata": {},
   "outputs": [
    {
     "data": {
      "image/png": "[encoded data removed]",
      "text/plain": [
       "<Figure size 432x288 with 1 Axes>"
      ]
     },
     "metadata": {
      "needs_background": "light"
     },
     "output_type": "display_data"
    }
   ],
   "source": [
    "import matplotlib.pyplot as plt\n",
    "epochs = list(range(1, epoch + 1))\n",
    "plt.plot(epochs, train_loss, label = 'Train Loss')\n",
    "plt.plot(epochs, test_loss, label = 'Test Loss')\n",
    "plt.scatter(epochs, train_loss, label = 'Train Points')\n",
    "plt.scatter(epochs, test_loss, label = 'Test Points')\n",
    "plt.xlabel('Epoch')\n",
    "plt.ylabel('log Loss')\n",
    "plt.title('Train Vs Test Loss')\n",
    "plt.legend()\n",
    "plt.show()"
   ]
  },
  {
   "cell_type": "code",
   "execution_count": 16,
   "metadata": {},
   "outputs": [
    {
     "data": {
      "text/plain": [
       "SGDClassifier(alpha=0.0001, average=False, class_weight=None, epsilon=0.1,\n",
       "       eta0=0.0001, fit_intercept=True, l1_ratio=0.15,\n",
       "       learning_rate='constant', loss='log', max_iter=None, n_iter=None,\n",
       "       n_jobs=1, penalty='l2', power_t=0.5, random_state=15, shuffle=True,\n",
       "       tol=0.001, verbose=2, warm_start=False)"
      ]
     },
     "execution_count": 16,
     "metadata": {},
     "output_type": "execute_result"
    }
   ],
   "source": [
    "from sklearn import linear_model\n",
    "clf = linear_model.SGDClassifier(eta0=0.0001, alpha=0.0001, loss='log', random_state=15, penalty='l2', tol=1e-3, verbose=2, learning_rate='constant')\n",
    "clf"
   ]
  },
  {
   "cell_type": "code",
   "execution_count": 17,
   "metadata": {},
   "outputs": [
    {
     "name": "stdout",
     "output_type": "stream",
     "text": [
      "-- Epoch 1\n",
      "Norm: 0.76, NNZs: 15, Bias: -0.314605, T: 37500, Avg. loss: 0.455801\n",
      "Total training time: 0.02 seconds.\n",
      "-- Epoch 2\n",
      "Norm: 0.92, NNZs: 15, Bias: -0.469578, T: 75000, Avg. loss: 0.394737\n",
      "Total training time: 0.03 seconds.\n",
      "-- Epoch 3\n",
      "Norm: 0.98, NNZs: 15, Bias: -0.580452, T: 112500, Avg. loss: 0.385561\n",
      "Total training time: 0.04 seconds.\n",
      "-- Epoch 4\n",
      "Norm: 1.02, NNZs: 15, Bias: -0.660824, T: 150000, Avg. loss: 0.382161\n",
      "Total training time: 0.06 seconds.\n",
      "-- Epoch 5\n",
      "Norm: 1.04, NNZs: 15, Bias: -0.717218, T: 187500, Avg. loss: 0.380474\n",
      "Total training time: 0.07 seconds.\n",
      "-- Epoch 6\n",
      "Norm: 1.06, NNZs: 15, Bias: -0.761816, T: 225000, Avg. loss: 0.379481\n",
      "Total training time: 0.08 seconds.\n",
      "Convergence after 6 epochs took 0.08 seconds\n"
     ]
    },
    {
     "data": {
      "text/plain": [
       "SGDClassifier(alpha=0.0001, average=False, class_weight=None, epsilon=0.1,\n",
       "       eta0=0.0001, fit_intercept=True, l1_ratio=0.15,\n",
       "       learning_rate='constant', loss='log', max_iter=None, n_iter=None,\n",
       "       n_jobs=1, penalty='l2', power_t=0.5, random_state=15, shuffle=True,\n",
       "       tol=0.001, verbose=2, warm_start=False)"
      ]
     },
     "execution_count": 17,
     "metadata": {},
     "output_type": "execute_result"
    }
   ],
   "source": [
    "clf.fit(X=X_train, y=y_train)"
   ]
  },
  {
   "cell_type": "code",
   "execution_count": 18,
   "metadata": {},
   "outputs": [
    {
     "data": {
      "text/plain": [
       "(array([[-0.41177431,  0.18416782, -0.13895073,  0.33572511, -0.18423237,\n",
       "          0.5494352 , -0.45213692, -0.08857465,  0.21536661,  0.17351757,\n",
       "          0.18480827,  0.00443463, -0.07033001,  0.33683181,  0.02004129]]),\n",
       " (1, 15),\n",
       " array([-0.76181561]))"
      ]
     },
     "execution_count": 18,
     "metadata": {},
     "output_type": "execute_result"
    }
   ],
   "source": [
    "clf.coef_, clf.coef_.shape, clf.intercept_"
   ]
  },
  {
   "cell_type": "code",
   "execution_count": 19,
   "metadata": {},
   "outputs": [
    {
     "data": {
      "text/plain": [
       "(array([[ 1.17619247e-02, -8.78541301e-04,  4.92855846e-03,\n",
       "          7.80752407e-05,  5.34085182e-03, -3.85207210e-03,\n",
       "          5.44702177e-03, -8.66045608e-03, -1.07119764e-02,\n",
       "         -1.86587241e-02, -2.11120186e-03,  6.54901415e-03,\n",
       "          4.20616355e-03,  2.63771503e-04,  2.92174301e-05]]),\n",
       " array([0.043393]))"
      ]
     },
     "execution_count": 19,
     "metadata": {},
     "output_type": "execute_result"
    }
   ],
   "source": [
    "new_weight - clf.coef_, new_intercept - clf.intercept_"
   ]
  },
  {
   "cell_type": "code",
   "execution_count": 20,
   "metadata": {},
   "outputs": [
    {
     "name": "stdout",
     "output_type": "stream",
     "text": [
      "0.96512\n",
      "0.96272\n"
     ]
    }
   ],
   "source": [
    "def pred(weight,intercept, X):\n",
    "    N = len(X)\n",
    "    predict = []\n",
    "    for i in range(N):\n",
    "        if sigmoid(weight, X[i], intercept) >= 0.5: # sigmoid(w,x,b) returns 1/(1+exp(-(dot(x,w)+b)))\n",
    "            predict.append(1)\n",
    "        else:\n",
    "            predict.append(0)\n",
    "    return np.array(predict)\n",
    "print(1-np.sum(y_train - pred(new_weight,new_intercept,X_train)) / len(X_train))\n",
    "print(1-np.sum(y_test  - pred(new_weight,new_intercept,X_test)) / len(X_test))"
   ]
  },
  {
   "cell_type": "code",
   "execution_count": null,
   "metadata": {},
   "outputs": [],
   "source": []
  }
 ],
 "metadata": {
  "kernelspec": {
   "display_name": "Python 3",
   "language": "python",
   "name": "python3"
  },
  "language_info": {
   "codemirror_mode": {
    "name": "ipython",
    "version": 3
   },
   "file_extension": ".py",
   "mimetype": "text/x-python",
   "name": "python",
   "nbconvert_exporter": "python",
   "pygments_lexer": "ipython3",
   "version": "3.7.0"
  }
 },
 "nbformat": 4,
 "nbformat_minor": 2
}
